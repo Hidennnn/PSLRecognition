{
 "cells": [
  {
   "cell_type": "code",
   "execution_count": 29,
   "outputs": [],
   "source": [
    "from tensorflow.keras.models import load_model\n",
    "import pandas as pd\n",
    "from sklearn.metrics import confusion_matrix\n",
    "import joblib\n",
    "import numpy as np"
   ],
   "metadata": {
    "collapsed": false,
    "pycharm": {
     "name": "#%%\n"
    }
   }
  },
  {
   "cell_type": "code",
   "execution_count": 14,
   "outputs": [],
   "source": [
    "model = load_model(\"best_model2.h5\")"
   ],
   "metadata": {
    "collapsed": false,
    "pycharm": {
     "name": "#%%\n"
    }
   }
  },
  {
   "cell_type": "code",
   "execution_count": 15,
   "outputs": [],
   "source": [
    "features = pd.read_csv(\"distance_test.csv\")\n",
    "labels = pd.read_csv(\"distance_test_target.csv\")"
   ],
   "metadata": {
    "collapsed": false,
    "pycharm": {
     "name": "#%%\n"
    }
   }
  },
  {
   "cell_type": "code",
   "execution_count": 16,
   "outputs": [],
   "source": [
    "scaler = joblib.load(\"scaler_final.save\")"
   ],
   "metadata": {
    "collapsed": false,
    "pycharm": {
     "name": "#%%\n"
    }
   }
  },
  {
   "cell_type": "code",
   "execution_count": 17,
   "outputs": [],
   "source": [
    "features = scaler.transform(features)"
   ],
   "metadata": {
    "collapsed": false,
    "pycharm": {
     "name": "#%%\n"
    }
   }
  },
  {
   "cell_type": "code",
   "execution_count": 18,
   "outputs": [
    {
     "name": "stdout",
     "output_type": "stream",
     "text": [
      "400/400 [==============================] - 2s 4ms/step - loss: 0.3994 - accuracy: 0.9592\n"
     ]
    },
    {
     "data": {
      "text/plain": "[0.399356871843338, 0.9592108130455017]"
     },
     "execution_count": 18,
     "metadata": {},
     "output_type": "execute_result"
    }
   ],
   "source": [
    "model.evaluate(features, labels)"
   ],
   "metadata": {
    "collapsed": false,
    "pycharm": {
     "name": "#%%\n"
    }
   }
  },
  {
   "cell_type": "code",
   "execution_count": 25,
   "outputs": [],
   "source": [
    "actualValue = labels.values.argmax(axis=1)"
   ],
   "metadata": {
    "collapsed": false,
    "pycharm": {
     "name": "#%%\n"
    }
   }
  },
  {
   "cell_type": "code",
   "execution_count": 42,
   "outputs": [],
   "source": [
    "actualValue = actualValue.reshape(12773, 1)"
   ],
   "metadata": {
    "collapsed": false,
    "pycharm": {
     "name": "#%%\n"
    }
   }
  },
  {
   "cell_type": "code",
   "execution_count": 41,
   "outputs": [
    {
     "data": {
      "text/plain": "array([[ 0,  0,  0, ..., 26, 26, 26]], dtype=int64)"
     },
     "execution_count": 41,
     "metadata": {},
     "output_type": "execute_result"
    }
   ],
   "source": [
    "actualValue"
   ],
   "metadata": {
    "collapsed": false,
    "pycharm": {
     "name": "#%%\n"
    }
   }
  },
  {
   "cell_type": "code",
   "execution_count": 21,
   "outputs": [
    {
     "name": "stdout",
     "output_type": "stream",
     "text": [
      "400/400 [==============================] - 1s 2ms/step\n"
     ]
    }
   ],
   "source": [
    "prediction = model.predict(features)"
   ],
   "metadata": {
    "collapsed": false,
    "pycharm": {
     "name": "#%%\n"
    }
   }
  },
  {
   "cell_type": "code",
   "execution_count": 30,
   "outputs": [],
   "source": [
    "pred = np.argmax(prediction, axis=1)"
   ],
   "metadata": {
    "collapsed": false,
    "pycharm": {
     "name": "#%%\n"
    }
   }
  },
  {
   "cell_type": "code",
   "execution_count": 37,
   "outputs": [
    {
     "data": {
      "text/plain": "array([[ 0, 19,  0, ..., 26, 26, 26]], dtype=int64)"
     },
     "execution_count": 37,
     "metadata": {},
     "output_type": "execute_result"
    }
   ],
   "source": [
    "pred = pred.reshape(1, 12773)"
   ],
   "metadata": {
    "collapsed": false,
    "pycharm": {
     "name": "#%%\n"
    }
   }
  },
  {
   "cell_type": "code",
   "execution_count": 43,
   "outputs": [
    {
     "data": {
      "text/plain": "array([[436,   0,   0,   1,   0,   0,   0,   0,   0,   0,   0,   0,   0,\n          0,   0,   0,   0,   0,   0,  50,  12,   0,   0,   0,   0,   0,\n          0],\n       [  0, 472,   0,   0,   2,   0,   0,   0,   0,   0,   0,   0,   0,\n          0,   0,   7,   0,   0,   0,   0,   0,  18,   0,   0,   0,   0,\n          0],\n       [  0,   0, 482,   1,   0,   0,   0,   0,   0,   0,   0,   0,   0,\n          0,   0,   2,   0,   0,   2,   0,   0,   1,   0,   0,   0,   0,\n          0],\n       [  0,   0,   0, 419,   1,   0,   0,   0,   0,   0,   0,   0,   0,\n          0,   0,   0,   0,   1,  73,   0,   0,   0,   0,   0,   0,   5,\n          0],\n       [  0,   0,   0,   0, 457,   9,   0,   0,   0,   0,   0,   0,   0,\n          0,   0,   4,   0,  23,   1,   0,   0,   2,   0,   0,   0,   0,\n          0],\n       [  0,   0,   0,   0,   1, 449,   0,   0,   0,   0,   0,   0,   0,\n          0,   0,   0,   0,  43,   0,   0,   0,   1,   0,   0,   0,   0,\n          0],\n       [  0,   0,   0,   0,   0,   0, 540,   3,   2,   0,   0,   0,   0,\n          0,   0,   0,   0,   0,   0,   0,   0,   0,   0,   0,   0,   0,\n          0],\n       [  0,   0,   0,   0,   0,   0,  11, 484,   1,   0,   0,   0,   0,\n          0,   0,   0,   0,   0,   0,   0,   0,   0,   0,   0,   0,   0,\n          0],\n       [  0,   0,   0,   0,   0,   0,   2,   3, 491,   1,   0,   0,   0,\n          0,   0,   0,   0,   0,   0,   0,   0,   0,   0,   0,   0,   0,\n          0],\n       [  0,   0,   0,   0,   0,   1,   1,   0,   2, 496,   0,   0,   0,\n          0,   0,   0,   0,   0,   0,   0,   0,   0,   0,   0,   0,   0,\n          0],\n       [  0,   0,   0,   0,   0,   0,   0,   0,   0,   0, 480,   0,   0,\n          0,   0,   1,   0,   0,   0,   0,   0,   0,   0,   0,   0,   0,\n          0],\n       [  0,   0,   0,   0,   0,   0,   4,   0,   0,   0,   0, 483,   0,\n          0,   0,   1,   0,   0,   0,   0,   0,   0,   0,   0,   0,   0,\n          0],\n       [  0,   0,   0,   0,   0,   0,   0,   1,   0,   0,   0,   0, 490,\n          1,   0,   0,   1,   0,   0,   1,   0,   0,   0,   0,   0,   0,\n          0],\n       [  0,   0,   0,   0,   0,   0,   0,   0,   0,   0,   0,   0,   0,\n        475,   0,   0,   0,   0,   0,   0,   1,   1,   0,   0,   0,   0,\n          0],\n       [  4,   0,   0,   0,   0,   0,   2,   0,   0,   0,   0,   2,   0,\n          1, 465,   2,   0,   0,   0,   0,   3,   0,   0,   0,   0,   0,\n          0],\n       [  0,   0,   0,   0,   0,   0,   0,   0,   0,   0,   0,   0,   0,\n          0,   0, 427,   0,   0,   0,   0,   0,  17,   0,   0,   0,   0,\n          0],\n       [  0,   0,   0,   0,   0,   0,   0,   2,   0,   0,   2,   0,   4,\n          0,   0,   1, 468,   0,   0,   1,   0,   0,   0,   0,   0,   0,\n          0],\n       [  0,   0,   0,   0,   1,   4,   0,   0,   0,   0,   0,   0,   0,\n          5,   0,   0,   0, 470,   0,   0,   0,   0,   0,   0,   0,   0,\n          0],\n       [  0,   0,   1,  10,   4,   0,   0,   0,   2,   0,   0,   0,   0,\n          0,   0,   0,   0,   0, 474,   0,   0,   0,   0,   0,   0,   0,\n          0],\n       [ 20,   0,   0,   0,   0,   0,   2,   0,   0,   0,   0,   0,   0,\n          0,   0,   0,   0,   0,   0, 469,   3,   0,   0,   0,   0,   0,\n          0],\n       [ 43,   0,   0,   0,   0,   0,   0,   0,   1,   1,   1,   0,   0,\n          0,   0,   1,   0,   0,   0,  29, 421,   0,   0,   0,   0,   0,\n          0],\n       [  0,   2,   0,   0,   0,   0,   0,   0,   0,   0,   4,   0,   2,\n          3,   0,   4,   0,  11,   0,   0,   0, 465,   0,   0,   0,   0,\n          0],\n       [  0,   0,   0,   0,   0,   0,   0,   0,   0,   0,   0,   0,   0,\n          0,   0,   1,   0,   1,   0,   0,   0,   0, 478,   0,   0,   0,\n          0],\n       [  0,   0,   0,   0,   0,   0,   0,   0,   2,   0,   0,   0,   0,\n          0,   0,   1,   0,   0,   0,   0,   0,   0,   0, 457,   8,   0,\n          0],\n       [  0,   0,   0,   1,   1,   0,   0,   0,   0,   2,   0,   0,   0,\n          1,   0,   1,   0,   0,   1,   0,   4,   0,   0,   2, 489,   0,\n          0],\n       [  0,   0,   0,   0,   0,   0,   0,   0,   0,   0,   0,   0,   0,\n          0,   0,   0,   0,   0,   0,   0,   0,   0,   0,   0,   0, 469,\n          0],\n       [  0,   0,   0,   0,   0,   0,   0,   0,   0,   0,   0,   0,   0,\n          0,   0,   1,   0,   0,   0,   0,   0,   0,   0,   0,   0,   0,\n         46]], dtype=int64)"
     },
     "execution_count": 43,
     "metadata": {},
     "output_type": "execute_result"
    }
   ],
   "source": [
    "confusion_matrix(actualValue, pred)"
   ],
   "metadata": {
    "collapsed": false,
    "pycharm": {
     "name": "#%%\n"
    }
   }
  },
  {
   "cell_type": "code",
   "execution_count": null,
   "outputs": [],
   "source": [],
   "metadata": {
    "collapsed": false,
    "pycharm": {
     "name": "#%%\n"
    }
   }
  }
 ],
 "metadata": {
  "kernelspec": {
   "display_name": "Python 3",
   "language": "python",
   "name": "python3"
  },
  "language_info": {
   "codemirror_mode": {
    "name": "ipython",
    "version": 2
   },
   "file_extension": ".py",
   "mimetype": "text/x-python",
   "name": "python",
   "nbconvert_exporter": "python",
   "pygments_lexer": "ipython2",
   "version": "2.7.6"
  }
 },
 "nbformat": 4,
 "nbformat_minor": 0
}