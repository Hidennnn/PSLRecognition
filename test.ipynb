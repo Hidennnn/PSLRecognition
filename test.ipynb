{
 "cells": [
  {
   "cell_type": "code",
   "execution_count": 9,
   "outputs": [],
   "source": [
    "import pandas as pd"
   ],
   "metadata": {
    "collapsed": false,
    "pycharm": {
     "name": "#%%\n"
    }
   }
  },
  {
   "cell_type": "code",
   "execution_count": 10,
   "outputs": [],
   "source": [
    "tak = []\n",
    "files = []"
   ],
   "metadata": {
    "collapsed": false,
    "pycharm": {
     "name": "#%%\n"
    }
   }
  },
  {
   "cell_type": "code",
   "execution_count": 11,
   "outputs": [],
   "source": [
    "file = open(r\"C:\\Users\\PC\\OneDrive\\Pulpit\\psl\\text\\distance_complex.txt\", \"r\")"
   ],
   "metadata": {
    "collapsed": false,
    "pycharm": {
     "name": "#%%\n"
    }
   }
  },
  {
   "cell_type": "code",
   "execution_count": 12,
   "outputs": [],
   "source": [
    "for line in file:\n",
    "    splited = line.split(\", \")\n",
    "    splited[-1] = splited[-1][:-1]\n",
    "    tak.append(splited[:-1])\n",
    "    files.append(splited[-1])"
   ],
   "metadata": {
    "collapsed": false,
    "pycharm": {
     "name": "#%%\n"
    }
   }
  },
  {
   "cell_type": "code",
   "execution_count": 13,
   "outputs": [],
   "source": [
    "file.close()"
   ],
   "metadata": {
    "collapsed": false,
    "pycharm": {
     "name": "#%%\n"
    }
   }
  },
  {
   "cell_type": "code",
   "execution_count": 14,
   "outputs": [],
   "source": [
    "columns = [x for x in range(1035)]\n",
    "columns.append(\"label\")"
   ],
   "metadata": {
    "collapsed": false,
    "pycharm": {
     "name": "#%%\n"
    }
   }
  },
  {
   "cell_type": "code",
   "execution_count": 15,
   "outputs": [],
   "source": [
    "df = pd.DataFrame(tak, columns = columns)\n",
    "df_names = pd.DataFrame(files, columns = [\"File name\"])"
   ],
   "metadata": {
    "collapsed": false,
    "pycharm": {
     "name": "#%%\n"
    }
   }
  },
  {
   "cell_type": "code",
   "execution_count": 16,
   "outputs": [],
   "source": [
    "df.to_csv(\"distance.csv\", index=False)\n",
    "df_names.to_csv(\"files.csv\", index=False)"
   ],
   "metadata": {
    "collapsed": false,
    "pycharm": {
     "name": "#%%\n"
    }
   }
  },
  {
   "cell_type": "code",
   "execution_count": 1,
   "outputs": [],
   "source": [
    "from roi import roi"
   ],
   "metadata": {
    "collapsed": false,
    "pycharm": {
     "name": "#%%\n"
    }
   }
  },
  {
   "cell_type": "code",
   "execution_count": 2,
   "outputs": [],
   "source": [
    "roi([r\"C:\\Users\\PC\\OneDrive\\Pulpit\\baza danych\\statyczne\\zdjecia\\0$o\", r\"C:\\Users\\PC\\OneDrive\\Pulpit\\baza danych\\statyczne\\zdjecia\\1\"], \"roi.txt\", [\"0$o\", \"1\"], many_sources=2, append_mode=True)"
   ],
   "metadata": {
    "collapsed": false,
    "pycharm": {
     "name": "#%%\n"
    }
   }
  },
  {
   "cell_type": "code",
   "execution_count": null,
   "outputs": [],
   "source": [
    "import cv2\n",
    "import os\n",
    "import datetime\n",
    "import pathlib"
   ],
   "metadata": {
    "collapsed": false,
    "pycharm": {
     "name": "#%%\n"
    }
   }
  },
  {
   "cell_type": "code",
   "execution_count": null,
   "outputs": [],
   "source": [
    "img = cv2.imread(\"C:\\\\Users\\\\PC\\\\OneDrive\\\\Pulpit\\\\znaki\\\\znaki\\\\B-20_0.png\")"
   ],
   "metadata": {
    "collapsed": false,
    "pycharm": {
     "name": "#%%\n"
    }
   }
  },
  {
   "cell_type": "code",
   "execution_count": null,
   "outputs": [],
   "source": [
    "img.shape"
   ],
   "metadata": {
    "collapsed": false,
    "pycharm": {
     "name": "#%%\n"
    }
   }
  },
  {
   "cell_type": "code",
   "execution_count": null,
   "outputs": [],
   "source": [
    "fname = pathlib.Path(\"C:\\\\Users\\\\PC\\\\OneDrive\\\\Pulpit\\\\znaki\\\\znaki\\\\B-20_0.png\")"
   ],
   "metadata": {
    "collapsed": false,
    "pycharm": {
     "name": "#%%\n"
    }
   }
  },
  {
   "cell_type": "code",
   "execution_count": null,
   "outputs": [],
   "source": [],
   "metadata": {
    "collapsed": false,
    "pycharm": {
     "name": "#%%\n"
    }
   }
  },
  {
   "cell_type": "code",
   "execution_count": null,
   "outputs": [],
   "source": [
    "mtime = datetime.datetime.fromtimestamp(fname.stat().st_mtime, tz=datetime.timezone.utc)"
   ],
   "metadata": {
    "collapsed": false,
    "pycharm": {
     "name": "#%%\n"
    }
   }
  },
  {
   "cell_type": "code",
   "execution_count": null,
   "outputs": [],
   "source": [
    "import os\n",
    "import cv2"
   ],
   "metadata": {
    "collapsed": false,
    "pycharm": {
     "name": "#%%\n"
    }
   }
  },
  {
   "cell_type": "code",
   "execution_count": null,
   "outputs": [],
   "source": [
    "for file in os.listdir(r\"C:\\Users\\PC\\OneDrive\\Pulpit\\znaki\\datasets\\coco128\\images\\test\"):\n",
    "    img_shape = cv2.imread(f\"C:\\\\Users\\\\PC\\\\OneDrive\\\\Pulpit\\\\znaki\\\\datasets\\\\coco128\\\\images\\\\test\\\\{file}\").shape\n",
    "    x_size = img_shape[1]\n",
    "    y_size = img_shape[0]\n",
    "\n",
    "    items = []\n",
    "\n",
    "    with open(f\"C:\\\\Users\\\\PC\\\\OneDrive\\\\Pulpit\\\\znaki\\\\datasets\\\\coco128\\\\labels\\\\test\\\\{file[:-4]}.txt\", \"r\") as fp:\n",
    "        for line in fp:\n",
    "            to_items = []\n",
    "            to_items.append(int(line[0]))\n",
    "            splited = list(map(int, line[2:].split(\",\")))\n",
    "            for x in splited:\n",
    "                to_items.append(x)\n",
    "            items.append(to_items)\n",
    "\n",
    "    for item in items:\n",
    "        x_center = (item[1] + ((item[3] - item[1]) / 2)) / x_size\n",
    "        y_center = (item[2] + ((item[4] - item[2]) / 2)) / y_size\n",
    "        width = (item[3] - item[1]) / x_size\n",
    "        height = (item[4] - item[2]) / y_size\n",
    "\n",
    "        item[1] = x_center\n",
    "        item[2] = y_center\n",
    "        item[3] = width\n",
    "        item[4] = height\n",
    "\n",
    "    with open(f\"C:\\\\Users\\\\PC\\\\OneDrive\\\\Pulpit\\\\znaki\\\\datasets\\\\coco128\\\\labels\\\\test\\\\{file[:-4]}.txt\", \"w\") as fp:\n",
    "        for item in items:\n",
    "            fp.write(f\"{item[0]} {item[1]} {item[2]} {item[3]} {item[4]}\\n\")"
   ],
   "metadata": {
    "collapsed": false,
    "pycharm": {
     "name": "#%%\n"
    }
   }
  },
  {
   "cell_type": "code",
   "execution_count": null,
   "outputs": [],
   "source": [
    "for file in os.listdir(r\"C:\\Users\\PC\\OneDrive\\Pulpit\\znaki\\datasets\\coco128\\images\\train\"):\n",
    "    items = []\n",
    "    with open(f\"C:\\\\Users\\\\PC\\\\OneDrive\\\\Pulpit\\\\znaki\\\\datasets\\\\coco128\\\\labels\\\\train\\\\{file[:-4]}.txt\", \"r\") as fp:\n",
    "        for line in fp:\n",
    "            to_items = []\n",
    "            to_items.append(int(line[0]))\n",
    "            splited = list(map(float, line[2:].split(\",\")))\n",
    "            for x in splited:\n",
    "                to_items.append(x)\n",
    "            items.append(to_items)\n",
    "\n",
    "    with open(f\"C:\\\\Users\\\\PC\\\\OneDrive\\\\Pulpit\\\\znaki\\\\datasets\\\\coco128\\\\labels\\\\train\\\\{file[:-4]}.txt\", \"w\") as fp:\n",
    "        for item in items:\n",
    "            fp.write(f\"{item[0]} {item[1]} {item[2]} {item[3]}\\n\")\n"
   ],
   "metadata": {
    "collapsed": false,
    "pycharm": {
     "name": "#%%\n"
    }
   }
  },
  {
   "cell_type": "code",
   "execution_count": null,
   "outputs": [],
   "source": [
    "for file in os.listdir(r\"C:\\Users\\PC\\OneDrive\\Pulpit\\znaki\\datasets\\coco128\\images\\train\"):\n",
    "    img_shape = cv2.imread(f\"C:\\\\Users\\\\PC\\\\OneDrive\\\\Pulpit\\\\znaki\\\\datasets\\\\coco128\\\\images\\\\train\\\\{file}\").shape\n",
    "    x_size = img_shape[1]\n",
    "    y_size = img_shape[0]\n",
    "\n",
    "    items = []\n",
    "\n",
    "    with open(f\"C:\\\\Users\\\\PC\\\\OneDrive\\\\Pulpit\\\\znaki\\\\datasets\\\\coco128\\\\labels\\\\train\\\\{file[:-4]}.txt\", \"r\") as fp:\n",
    "        for line in fp:\n",
    "            to_items = []\n",
    "            to_items.append(int(line[0]))\n",
    "            splited = list(map(int, line[2:].split(\",\")))\n",
    "            for x in splited:\n",
    "                to_items.append(x)\n",
    "            items.append(to_items)\n",
    "\n",
    "    for item in items:\n",
    "        x_center = (item[1] + ((item[3] - item[1]) / 2)) / x_size\n",
    "        y_center = (item[2] + ((item[4] - item[2]) / 2)) / y_size\n",
    "        width = (item[3] - item[1]) / x_size\n",
    "        height = (item[4] - item[2]) / y_size\n",
    "\n",
    "        item[1] = x_center\n",
    "        item[2] = y_center\n",
    "        item[3] = width\n",
    "        item[4] = height\n",
    "\n",
    "    with open(f\"C:\\\\Users\\\\PC\\\\OneDrive\\\\Pulpit\\\\znaki\\\\datasets\\\\coco128\\\\labels\\\\train\\\\{file[:-4]}.txt\", \"w\") as fp:\n",
    "        for item in items:\n",
    "            fp.write(f\"{item[0]} {item[1]} {item[2]} {item[3]} {item[4]}\\n\")"
   ],
   "metadata": {
    "collapsed": false,
    "pycharm": {
     "name": "#%%\n"
    }
   }
  },
  {
   "cell_type": "code",
   "execution_count": 3,
   "outputs": [],
   "source": [
    "import os\n",
    "\n",
    "for file in os.listdir(r\"C:\\Users\\PC\\OneDrive\\Pulpit\\znaki\\datasets\\coco128\\labels\\train\"):\n",
    "    with open(r\"C:\\Users\\PC\\OneDrive\\Pulpit\\znaki\\datasets\\coco128\\labels\\train\\\\\"+file, \"r\") as fp:\n",
    "        for line in fp:\n",
    "            if line[0] == '4':\n",
    "                print('x')"
   ],
   "metadata": {
    "collapsed": false,
    "pycharm": {
     "name": "#%%\n"
    }
   }
  },
  {
   "cell_type": "code",
   "execution_count": null,
   "outputs": [],
   "source": [],
   "metadata": {
    "collapsed": false,
    "pycharm": {
     "name": "#%%\n"
    }
   }
  },
  {
   "cell_type": "code",
   "execution_count": 2,
   "outputs": [],
   "source": [
    "img = cv2.imread(\"C:\\\\Users\\\\PC\\\\OneDrive\\\\Pulpit\\\\znaki\\\\znaki\\\\B-20_0.png\")"
   ],
   "metadata": {
    "collapsed": false,
    "pycharm": {
     "name": "#%%\n"
    }
   }
  },
  {
   "cell_type": "code",
   "execution_count": 3,
   "outputs": [
    {
     "data": {
      "text/plain": "(838, 1388, 3)"
     },
     "execution_count": 3,
     "metadata": {},
     "output_type": "execute_result"
    }
   ],
   "source": [
    "img.shape"
   ],
   "metadata": {
    "collapsed": false,
    "pycharm": {
     "name": "#%%\n"
    }
   }
  },
  {
   "cell_type": "code",
   "execution_count": 14,
   "outputs": [],
   "source": [
    "fname = pathlib.Path(\"C:\\\\Users\\\\PC\\\\OneDrive\\\\Pulpit\\\\znaki\\\\znaki\\\\B-20_0.png\")"
   ],
   "metadata": {
    "collapsed": false,
    "pycharm": {
     "name": "#%%\n"
    }
   }
  },
  {
   "cell_type": "code",
   "execution_count": 6,
   "outputs": [
    {
     "data": {
      "text/plain": "os.stat_result(st_mode=33206, st_ino=3377699721459198, st_dev=1017726603, st_nlink=1, st_uid=0, st_gid=0, st_size=2354954, st_atime=1676311398, st_mtime=1675892040, st_ctime=1675896603)"
     },
     "execution_count": 6,
     "metadata": {},
     "output_type": "execute_result"
    }
   ],
   "source": [],
   "metadata": {
    "collapsed": false,
    "pycharm": {
     "name": "#%%\n"
    }
   }
  },
  {
   "cell_type": "code",
   "execution_count": 15,
   "outputs": [],
   "source": [
    "mtime = datetime.datetime.fromtimestamp(fname.stat().st_mtime, tz=datetime.timezone.utc)"
   ],
   "metadata": {
    "collapsed": false,
    "pycharm": {
     "name": "#%%\n"
    }
   }
  },
  {
   "cell_type": "code",
   "execution_count": 1,
   "outputs": [],
   "source": [
    "import os\n",
    "import cv2"
   ],
   "metadata": {
    "collapsed": false,
    "pycharm": {
     "name": "#%%\n"
    }
   }
  },
  {
   "cell_type": "code",
   "execution_count": 12,
   "outputs": [],
   "source": [
    "for file in os.listdir(r\"C:\\Users\\PC\\OneDrive\\Pulpit\\znaki\\datasets\\coco128\\images\\test\"):\n",
    "    img_shape = cv2.imread(f\"C:\\\\Users\\\\PC\\\\OneDrive\\\\Pulpit\\\\znaki\\\\datasets\\\\coco128\\\\images\\\\test\\\\{file}\").shape\n",
    "    x_size = img_shape[1]\n",
    "    y_size = img_shape[0]\n",
    "\n",
    "    items = []\n",
    "\n",
    "    with open(f\"C:\\\\Users\\\\PC\\\\OneDrive\\\\Pulpit\\\\znaki\\\\datasets\\\\coco128\\\\labels\\\\test\\\\{file[:-4]}.txt\", \"r\") as fp:\n",
    "        for line in fp:\n",
    "            to_items = []\n",
    "            to_items.append(int(line[0]))\n",
    "            splited = list(map(int, line[2:].split(\",\")))\n",
    "            for x in splited:\n",
    "                to_items.append(x)\n",
    "            items.append(to_items)\n",
    "\n",
    "    for item in items:\n",
    "        x_center = (item[1] + ((item[3] - item[1]) / 2)) / x_size\n",
    "        y_center = (item[2] + ((item[4] - item[2]) / 2)) / y_size\n",
    "        width = (item[3] - item[1]) / x_size\n",
    "        height = (item[4] - item[2]) / y_size\n",
    "\n",
    "        item[1] = x_center\n",
    "        item[2] = y_center\n",
    "        item[3] = width\n",
    "        item[4] = height\n",
    "\n",
    "    with open(f\"C:\\\\Users\\\\PC\\\\OneDrive\\\\Pulpit\\\\znaki\\\\datasets\\\\coco128\\\\labels\\\\test\\\\{file[:-4]}.txt\", \"w\") as fp:\n",
    "        for item in items:\n",
    "            fp.write(f\"{item[0]} {item[1]} {item[2]} {item[3]} {item[4]}\\n\")"
   ],
   "metadata": {
    "collapsed": false,
    "pycharm": {
     "name": "#%%\n"
    }
   }
  },
  {
   "cell_type": "code",
   "execution_count": null,
   "outputs": [],
   "source": [
    "for file in os.listdir(r\"C:\\Users\\PC\\OneDrive\\Pulpit\\znaki\\datasets\\coco128\\images\\train\"):\n",
    "    items = []\n",
    "    with open(f\"C:\\\\Users\\\\PC\\\\OneDrive\\\\Pulpit\\\\znaki\\\\datasets\\\\coco128\\\\labels\\\\train\\\\{file[:-4]}.txt\", \"r\") as fp:\n",
    "        for line in fp:\n",
    "            to_items = []\n",
    "            to_items.append(int(line[0]))\n",
    "            splited = list(map(float, line[2:].split(\",\")))\n",
    "            for x in splited:\n",
    "                to_items.append(x)\n",
    "            items.append(to_items)\n",
    "\n",
    "    with open(f\"C:\\\\Users\\\\PC\\\\OneDrive\\\\Pulpit\\\\znaki\\\\datasets\\\\coco128\\\\labels\\\\train\\\\{file[:-4]}.txt\", \"w\") as fp:\n",
    "        for item in items:\n",
    "            fp.write(f\"{item[0]} {item[1]} {item[2]} {item[3]}\\n\")\n"
   ],
   "metadata": {
    "collapsed": false,
    "pycharm": {
     "name": "#%%\n"
    }
   }
  },
  {
   "cell_type": "code",
   "execution_count": 13,
   "outputs": [],
   "source": [
    "for file in os.listdir(r\"C:\\Users\\PC\\OneDrive\\Pulpit\\znaki\\datasets\\coco128\\images\\train\"):\n",
    "    img_shape = cv2.imread(f\"C:\\\\Users\\\\PC\\\\OneDrive\\\\Pulpit\\\\znaki\\\\datasets\\\\coco128\\\\images\\\\train\\\\{file}\").shape\n",
    "    x_size = img_shape[1]\n",
    "    y_size = img_shape[0]\n",
    "\n",
    "    items = []\n",
    "\n",
    "    with open(f\"C:\\\\Users\\\\PC\\\\OneDrive\\\\Pulpit\\\\znaki\\\\datasets\\\\coco128\\\\labels\\\\train\\\\{file[:-4]}.txt\", \"r\") as fp:\n",
    "        for line in fp:\n",
    "            to_items = []\n",
    "            to_items.append(int(line[0]))\n",
    "            splited = list(map(int, line[2:].split(\",\")))\n",
    "            for x in splited:\n",
    "                to_items.append(x)\n",
    "            items.append(to_items)\n",
    "\n",
    "    for item in items:\n",
    "        x_center = (item[1] + ((item[3] - item[1]) / 2)) / x_size\n",
    "        y_center = (item[2] + ((item[4] - item[2]) / 2)) / y_size\n",
    "        width = (item[3] - item[1]) / x_size\n",
    "        height = (item[4] - item[2]) / y_size\n",
    "\n",
    "        item[1] = x_center\n",
    "        item[2] = y_center\n",
    "        item[3] = width\n",
    "        item[4] = height\n",
    "\n",
    "    with open(f\"C:\\\\Users\\\\PC\\\\OneDrive\\\\Pulpit\\\\znaki\\\\datasets\\\\coco128\\\\labels\\\\train\\\\{file[:-4]}.txt\", \"w\") as fp:\n",
    "        for item in items:\n",
    "            fp.write(f\"{item[0]} {item[1]} {item[2]} {item[3]} {item[4]}\\n\")"
   ],
   "metadata": {
    "collapsed": false,
    "pycharm": {
     "name": "#%%\n"
    }
   }
  },
  {
   "cell_type": "code",
   "execution_count": null,
   "outputs": [],
   "source": [
    "import numpy as np\n",
    "\n",
    "t = None\n",
    "\n",
    "t.shape"
   ],
   "metadata": {
    "collapsed": false,
    "pycharm": {
     "name": "#%%\n"
    }
   }
  },
  {
   "cell_type": "code",
   "execution_count": 1,
   "outputs": [
    {
     "ename": "ImageNotExistError",
     "evalue": "Image with this path doesn't exist.",
     "output_type": "error",
     "traceback": [
      "\u001B[1;31m---------------------------------------------------------------------------\u001B[0m",
      "\u001B[1;31mImageNotExistError\u001B[0m                        Traceback (most recent call last)",
      "\u001B[1;32m~\\AppData\\Local\\Temp/ipykernel_18192/1563350326.py\u001B[0m in \u001B[0;36m<module>\u001B[1;34m\u001B[0m\n\u001B[0;32m      1\u001B[0m \u001B[1;32mfrom\u001B[0m \u001B[0mcustom_exceptions\u001B[0m \u001B[1;32mimport\u001B[0m \u001B[0mImageNotExistError\u001B[0m\u001B[1;33m\u001B[0m\u001B[1;33m\u001B[0m\u001B[0m\n\u001B[0;32m      2\u001B[0m \u001B[1;33m\u001B[0m\u001B[0m\n\u001B[1;32m----> 3\u001B[1;33m \u001B[1;32mraise\u001B[0m \u001B[0mImageNotExistError\u001B[0m\u001B[1;33m\u001B[0m\u001B[1;33m\u001B[0m\u001B[0m\n\u001B[0m",
      "\u001B[1;31mImageNotExistError\u001B[0m: Image with this path doesn't exist."
     ]
    }
   ],
   "source": [
    "from custom_exceptions import ImageNotExistError\n",
    "\n",
    "raise ImageNotExistError"
   ],
   "metadata": {
    "collapsed": false,
    "pycharm": {
     "name": "#%%\n"
    }
   }
  },
  {
   "cell_type": "code",
   "execution_count": null,
   "outputs": [],
   "source": [],
   "metadata": {
    "collapsed": false,
    "pycharm": {
     "name": "#%%\n"
    }
   }
  }
 ],
 "metadata": {
  "kernelspec": {
   "name": "python3",
   "language": "python",
   "display_name": "Python 3 (ipykernel)"
  },
  "language_info": {
   "codemirror_mode": {
    "name": "ipython",
    "version": 2
   },
   "file_extension": ".py",
   "mimetype": "text/x-python",
   "name": "python",
   "nbconvert_exporter": "python",
   "pygments_lexer": "ipython2",
   "version": "2.7.6"
  }
 },
 "nbformat": 4,
 "nbformat_minor": 0
}