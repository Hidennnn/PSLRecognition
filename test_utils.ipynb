{
 "cells": [
  {
   "cell_type": "code",
   "execution_count": 1,
   "outputs": [],
   "source": [
    "from utils import open_img, center_of_img, rescale_img\n",
    "from custom_exceptions import PathToImageIsIncorrectError, ImageNotExistsError\n",
    "import numpy as np"
   ],
   "metadata": {
    "collapsed": false,
    "pycharm": {
     "name": "#%%\n"
    }
   }
  },
  {
   "cell_type": "code",
   "execution_count": 2,
   "outputs": [
    {
     "name": "stdout",
     "output_type": "stream",
     "text": [
      "Passed 1\n",
      "Passed 2\n",
      "Passed 3\n",
      "Passed 4\n",
      "Passed 5\n",
      "Passed 6\n"
     ]
    }
   ],
   "source": [
    "assert(isinstance(open_img(r\"C:\\Users\\PC\\OneDrive\\Obrazy\\Cyberpunk 2077\\photomode_05022023_015423.png\"), np.ndarray)) #exists on my PC\n",
    "print(\"Passed 1\")\n",
    "assert(isinstance(open_img(open_img(r\"C:\\Users\\PC\\OneDrive\\Obrazy\\Cyberpunk 2077\\photomode_05022023_015423.png\")), np.ndarray)) #test with Image as input\n",
    "print(\"Passed 2\")\n",
    "\n",
    "try:\n",
    "    open_img(r\"C:\\bad_example\\notexsistingphoto.png\")\n",
    "except PathToImageIsIncorrectError:\n",
    "    print(\"Passed 3\")\n",
    "else:\n",
    "    raise AssertionError(\"open_img should raise error.\")\n",
    "\n",
    "\n",
    "try:\n",
    "    open_img(None)\n",
    "except ImageNotExistsError:\n",
    "    print(\"Passed 4\")\n",
    "else:\n",
    "    raise AssertionError(\"open_img should raise error.\")\n",
    "\n",
    "\n",
    "try:\n",
    "    open_img(12314)\n",
    "except TypeError:\n",
    "    print(\"Passed 5\")\n",
    "else:\n",
    "    raise AssertionError(\"open_img should raise error.\")\n",
    "\n",
    "try:\n",
    "    open_img(12314.12314)\n",
    "except TypeError:\n",
    "    print(\"Passed 6\")\n",
    "else:\n",
    "    raise AssertionError(\"open_img should raise error.\")"
   ],
   "metadata": {
    "collapsed": false,
    "pycharm": {
     "name": "#%%\n"
    }
   }
  },
  {
   "cell_type": "code",
   "execution_count": 3,
   "outputs": [
    {
     "name": "stdout",
     "output_type": "stream",
     "text": [
      "Passed 1\n",
      "Passed 2\n",
      "Passed 3\n",
      "Passed 4\n",
      "Passed 5\n",
      "Passed 6\n",
      "Passed 7\n"
     ]
    }
   ],
   "source": [
    "assert(isinstance(center_of_img(r\"C:\\Users\\PC\\OneDrive\\Obrazy\\Cyberpunk 2077\\photomode_05022023_015423.png\"), tuple))#exist on my PC\n",
    "print(\"Passed 1\")\n",
    "assert(isinstance(center_of_img(open_img(r\"C:\\Users\\PC\\OneDrive\\Obrazy\\Cyberpunk 2077\\photomode_05022023_015423.png\")), tuple)) #test with Image as input\n",
    "print(\"Passed 2\")\n",
    "\n",
    "try:\n",
    "    center_of_img(r\"C:\\bad_example\\notexsistingphoto.png\")\n",
    "except PathToImageIsIncorrectError:\n",
    "    print(\"Passed 3\")\n",
    "else:\n",
    "    raise AssertionError(\"center_of_img should raise error.\")\n",
    "\n",
    "\n",
    "try:\n",
    "    center_of_img(None)\n",
    "except ImageNotExistsError:\n",
    "    print(\"Passed 4\")\n",
    "else:\n",
    "    raise AssertionError(\"center_of_img should raise error.\")\n",
    "\n",
    "\n",
    "try:\n",
    "    center_of_img(12314)\n",
    "except TypeError:\n",
    "    print(\"Passed 5\")\n",
    "else:\n",
    "    raise AssertionError(\"center_of_img should raise error.\")\n",
    "\n",
    "try:\n",
    "    center_of_img(12314.12314)\n",
    "except TypeError:\n",
    "    print(\"Passed 6\")\n",
    "else:\n",
    "    raise AssertionError(\"center_of_img should raise error.\")\n",
    "\n",
    "tested_tuple = center_of_img(r\"C:\\Users\\PC\\OneDrive\\Obrazy\\Cyberpunk 2077\\photomode_05022023_015423.png\")\n",
    "\n",
    "assert(tested_tuple[0] == 960.0 and tested_tuple[1] == 540.0)\n",
    "print(\"Passed 7\")"
   ],
   "metadata": {
    "collapsed": false,
    "pycharm": {
     "name": "#%%\n"
    }
   }
  },
  {
   "cell_type": "code",
   "execution_count": 4,
   "outputs": [
    {
     "name": "stdout",
     "output_type": "stream",
     "text": [
      "Passed 1\n",
      "Passed 2\n",
      "Passed 3\n",
      "Passed 4\n",
      "Passed 5\n",
      "Passed 6\n",
      "Passed 7\n",
      "Passed 8\n",
      "Passed 9\n",
      "Passed 10\n",
      "Passed 11\n"
     ]
    }
   ],
   "source": [
    "assert(isinstance(rescale_img(r\"C:\\Users\\PC\\OneDrive\\Obrazy\\Cyberpunk 2077\\photomode_05022023_015423.png\", 80), np.ndarray))#exist on my PC\n",
    "print(\"Passed 1\")\n",
    "assert(isinstance(rescale_img(open_img(r\"C:\\Users\\PC\\OneDrive\\Obrazy\\Cyberpunk 2077\\photomode_05022023_015423.png\"), 80), np.ndarray)) #test with Image as input\n",
    "print(\"Passed 2\")\n",
    "\n",
    "try:\n",
    "    rescale_img(r\"C:\\bad_example\\notexsistingphoto.png\", 80)\n",
    "except PathToImageIsIncorrectError:\n",
    "    print(\"Passed 3\")\n",
    "else:\n",
    "    raise AssertionError(\"rescale_img should raise error.\")\n",
    "\n",
    "\n",
    "try:\n",
    "    rescale_img(None, 80)\n",
    "except ImageNotExistsError:\n",
    "    print(\"Passed 4\")\n",
    "else:\n",
    "    raise AssertionError(\"rescale_img should raise error.\")\n",
    "\n",
    "\n",
    "try:\n",
    "    rescale_img(12314, 80)\n",
    "except TypeError:\n",
    "    print(\"Passed 5\")\n",
    "else:\n",
    "    raise AssertionError(\"rescale_img should raise error.\")\n",
    "\n",
    "try:\n",
    "    center_of_img(12314.12314, 80)\n",
    "except TypeError:\n",
    "    print(\"Passed 6\")\n",
    "else:\n",
    "    raise AssertionError(\"rescale_img should raise error.\")\n",
    "\n",
    "image = open_img(r\"C:\\Users\\PC\\OneDrive\\Obrazy\\Cyberpunk 2077\\photomode_05022023_015423.png\")\n",
    "image_shape = image.shape\n",
    "rescaled_image = rescale_img(image, 80)\n",
    "\n",
    "assert(rescaled_image.shape[0] == int(image_shape[0]*0.8) and rescaled_image.shape[1] == int(image_shape[1]*0.8))\n",
    "print(\"Passed 7\")\n",
    "\n",
    "image = open_img(r\"C:\\Users\\PC\\OneDrive\\Obrazy\\Cyberpunk 2077\\photomode_05022023_015423.png\")\n",
    "image_shape = image.shape\n",
    "rescaled_image = rescale_img(image, 180)\n",
    "\n",
    "assert(rescaled_image.shape[0] == int(image_shape[0]*1.8) and rescaled_image.shape[1] == int(image_shape[1]*1.8))\n",
    "print(\"Passed 8\")\n",
    "\n",
    "image = open_img(r\"C:\\Users\\PC\\OneDrive\\Obrazy\\Cyberpunk 2077\\photomode_05022023_015423.png\")\n",
    "image_shape = image.shape\n",
    "rescaled_image = rescale_img(image, 100)\n",
    "\n",
    "assert(rescaled_image.shape[0] == image_shape[0] and rescaled_image.shape[1] == image_shape[1])\n",
    "print(\"Passed 9\")\n",
    "\n",
    "try:\n",
    "    rescaled_image = rescale_img(open_img(r\"C:\\Users\\PC\\OneDrive\\Obrazy\\Cyberpunk 2077\\photomode_05022023_015423.png\"), 0)\n",
    "except ValueError:\n",
    "    print(\"Passed 10\")\n",
    "else:\n",
    "    raise AssertionError(\"rescale_img should raise error.\")\n",
    "\n",
    "try:\n",
    "    rescaled_image = rescale_img(open_img(r\"C:\\Users\\PC\\OneDrive\\Obrazy\\Cyberpunk 2077\\photomode_05022023_015423.png\"), -20)\n",
    "except ValueError:\n",
    "    print(\"Passed 11\")\n",
    "else:\n",
    "    raise AssertionError(\"rescale_img should raise error.\")"
   ],
   "metadata": {
    "collapsed": false,
    "pycharm": {
     "name": "#%%\n"
    }
   }
  }
 ],
 "metadata": {
  "kernelspec": {
   "name": "python3",
   "language": "python",
   "display_name": "Python 3 (ipykernel)"
  },
  "language_info": {
   "codemirror_mode": {
    "name": "ipython",
    "version": 2
   },
   "file_extension": ".py",
   "mimetype": "text/x-python",
   "name": "python",
   "nbconvert_exporter": "python",
   "pygments_lexer": "ipython2",
   "version": "2.7.6"
  }
 },
 "nbformat": 4,
 "nbformat_minor": 0
}