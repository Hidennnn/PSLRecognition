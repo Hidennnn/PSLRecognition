{
 "cells": [
  {
   "cell_type": "code",
   "execution_count": 1,
   "outputs": [],
   "source": [
    "from sklearn.preprocessing import MinMaxScaler\n",
    "from tensorflow.keras import Sequential\n",
    "from tensorflow.keras.layers import Dense, Dropout\n",
    "import tensorflow as tf\n",
    "import pandas as pd\n",
    "import joblib"
   ],
   "metadata": {
    "collapsed": false,
    "pycharm": {
     "name": "#%%\n"
    }
   }
  },
  {
   "cell_type": "code",
   "execution_count": 2,
   "outputs": [
    {
     "name": "stdout",
     "output_type": "stream",
     "text": [
      "Num GPUs Available:  0\n"
     ]
    },
    {
     "ename": "IndexError",
     "evalue": "list index out of range",
     "output_type": "error",
     "traceback": [
      "\u001B[1;31m---------------------------------------------------------------------------\u001B[0m",
      "\u001B[1;31mIndexError\u001B[0m                                Traceback (most recent call last)",
      "\u001B[1;32m~\\AppData\\Local\\Temp/ipykernel_7748/4182404431.py\u001B[0m in \u001B[0;36m<module>\u001B[1;34m\u001B[0m\n\u001B[0;32m      1\u001B[0m \u001B[0mphysical_devices\u001B[0m \u001B[1;33m=\u001B[0m \u001B[0mtf\u001B[0m\u001B[1;33m.\u001B[0m\u001B[0mconfig\u001B[0m\u001B[1;33m.\u001B[0m\u001B[0mexperimental\u001B[0m\u001B[1;33m.\u001B[0m\u001B[0mlist_physical_devices\u001B[0m\u001B[1;33m(\u001B[0m\u001B[1;34m'GPU'\u001B[0m\u001B[1;33m)\u001B[0m\u001B[1;33m\u001B[0m\u001B[1;33m\u001B[0m\u001B[0m\n\u001B[0;32m      2\u001B[0m \u001B[0mprint\u001B[0m\u001B[1;33m(\u001B[0m\u001B[1;34m\"Num GPUs Available: \"\u001B[0m\u001B[1;33m,\u001B[0m \u001B[0mlen\u001B[0m\u001B[1;33m(\u001B[0m\u001B[0mphysical_devices\u001B[0m\u001B[1;33m)\u001B[0m\u001B[1;33m)\u001B[0m\u001B[1;33m\u001B[0m\u001B[1;33m\u001B[0m\u001B[0m\n\u001B[1;32m----> 3\u001B[1;33m \u001B[0mtf\u001B[0m\u001B[1;33m.\u001B[0m\u001B[0mconfig\u001B[0m\u001B[1;33m.\u001B[0m\u001B[0mexperimental\u001B[0m\u001B[1;33m.\u001B[0m\u001B[0mset_memory_growth\u001B[0m\u001B[1;33m(\u001B[0m\u001B[0mphysical_devices\u001B[0m\u001B[1;33m[\u001B[0m\u001B[1;36m0\u001B[0m\u001B[1;33m]\u001B[0m\u001B[1;33m,\u001B[0m \u001B[1;32mTrue\u001B[0m\u001B[1;33m)\u001B[0m\u001B[1;33m\u001B[0m\u001B[1;33m\u001B[0m\u001B[0m\n\u001B[0m",
      "\u001B[1;31mIndexError\u001B[0m: list index out of range"
     ]
    }
   ],
   "source": [
    "physical_devices = tf.config.experimental.list_physical_devices('GPU')\n",
    "print(\"Num GPUs Available: \", len(physical_devices))\n",
    "tf.config.experimental.set_memory_growth(physical_devices[0], True)"
   ],
   "metadata": {
    "collapsed": false,
    "pycharm": {
     "name": "#%%\n"
    }
   }
  },
  {
   "cell_type": "code",
   "execution_count": 3,
   "outputs": [],
   "source": [
    "features = pd.read_csv(r\"distance.csv\")\n",
    "targets = pd.read_csv(r\"distance_target.csv\")"
   ],
   "metadata": {
    "collapsed": false,
    "pycharm": {
     "name": "#%%\n"
    }
   }
  },
  {
   "cell_type": "code",
   "execution_count": 4,
   "outputs": [],
   "source": [
    "scaler = MinMaxScaler().fit(features)"
   ],
   "metadata": {
    "collapsed": false,
    "pycharm": {
     "name": "#%%\n"
    }
   }
  },
  {
   "cell_type": "code",
   "execution_count": 5,
   "outputs": [],
   "source": [
    "features = scaler.transform(features)"
   ],
   "metadata": {
    "collapsed": false,
    "pycharm": {
     "name": "#%%\n"
    }
   }
  },
  {
   "cell_type": "code",
   "execution_count": 6,
   "outputs": [
    {
     "data": {
      "text/plain": "['scaler_final.save']"
     },
     "execution_count": 6,
     "metadata": {},
     "output_type": "execute_result"
    }
   ],
   "source": [
    "joblib.dump(scaler, \"scaler_final.save\")"
   ],
   "metadata": {
    "collapsed": false,
    "pycharm": {
     "name": "#%%\n"
    }
   }
  },
  {
   "cell_type": "code",
   "execution_count": 6,
   "outputs": [],
   "source": [
    "import tensorflow.keras as keras\n",
    "checkpoint = keras.callbacks.ModelCheckpoint(\"best_model3.h5\", monitor=\"loss\", verbose=2, save_best_only=True, save_weights_only=False, mode= \"auto\", save_freq = \"epoch\")"
   ],
   "metadata": {
    "collapsed": false,
    "pycharm": {
     "name": "#%%\n"
    }
   }
  },
  {
   "cell_type": "code",
   "execution_count": 7,
   "outputs": [],
   "source": [
    "model = Sequential()\n",
    "model.add(Dense(1035, input_dim=1035, activation=\"relu\"))\n",
    "model.add(Dropout(0.5))\n",
    "model.add(Dense(512, activation=\"relu\"))\n",
    "model.add(Dropout(0.5))\n",
    "model.add(Dense(64, activation=\"relu\"))\n",
    "model.add(Dropout(0.5))\n",
    "model.add(Dense(27, activation=\"softmax\"))"
   ],
   "metadata": {
    "collapsed": false,
    "pycharm": {
     "name": "#%%\n"
    }
   }
  },
  {
   "cell_type": "code",
   "execution_count": 8,
   "outputs": [],
   "source": [
    "model.compile(loss=\"categorical_crossentropy\", optimizer=tf.keras.optimizers.Adamax(learning_rate=1e-4), metrics=[\"accuracy\", \"recall\", \"precision\"])"
   ],
   "metadata": {
    "collapsed": false,
    "pycharm": {
     "name": "#%%\n"
    }
   }
  },
  {
   "cell_type": "code",
   "execution_count": null,
   "outputs": [
    {
     "name": "stdout",
     "output_type": "stream",
     "text": [
      "Epoch 1/4000\n",
      "\n",
      "Epoch 1: loss improved from inf to 3.24383, saving model to best_model3.h5\n",
      "121/121 - 3s - loss: 3.2438 - accuracy: 0.0718 - 3s/epoch - 26ms/step\n",
      "Epoch 2/4000\n",
      "\n",
      "Epoch 2: loss improved from 3.24383 to 3.03767, saving model to best_model3.h5\n",
      "121/121 - 1s - loss: 3.0377 - accuracy: 0.1222 - 818ms/epoch - 7ms/step\n",
      "Epoch 3/4000\n",
      "\n",
      "Epoch 3: loss improved from 3.03767 to 2.87273, saving model to best_model3.h5\n",
      "121/121 - 1s - loss: 2.8727 - accuracy: 0.1597 - 811ms/epoch - 7ms/step\n",
      "Epoch 4/4000\n",
      "\n",
      "Epoch 4: loss improved from 2.87273 to 2.71768, saving model to best_model3.h5\n",
      "121/121 - 1s - loss: 2.7177 - accuracy: 0.1974 - 815ms/epoch - 7ms/step\n",
      "Epoch 5/4000\n",
      "\n",
      "Epoch 5: loss improved from 2.71768 to 2.54325, saving model to best_model3.h5\n",
      "121/121 - 1s - loss: 2.5433 - accuracy: 0.2427 - 756ms/epoch - 6ms/step\n",
      "Epoch 6/4000\n",
      "\n",
      "Epoch 6: loss improved from 2.54325 to 2.35129, saving model to best_model3.h5\n",
      "121/121 - 1s - loss: 2.3513 - accuracy: 0.2898 - 808ms/epoch - 7ms/step\n",
      "Epoch 7/4000\n",
      "\n",
      "Epoch 7: loss improved from 2.35129 to 2.15066, saving model to best_model3.h5\n",
      "121/121 - 1s - loss: 2.1507 - accuracy: 0.3464 - 828ms/epoch - 7ms/step\n",
      "Epoch 8/4000\n",
      "\n",
      "Epoch 8: loss improved from 2.15066 to 1.95948, saving model to best_model3.h5\n",
      "121/121 - 1s - loss: 1.9595 - accuracy: 0.4013 - 820ms/epoch - 7ms/step\n",
      "Epoch 9/4000\n",
      "\n",
      "Epoch 9: loss improved from 1.95948 to 1.76690, saving model to best_model3.h5\n",
      "121/121 - 2s - loss: 1.7669 - accuracy: 0.4551 - 2s/epoch - 14ms/step\n",
      "Epoch 10/4000\n",
      "\n",
      "Epoch 10: loss improved from 1.76690 to 1.61158, saving model to best_model3.h5\n",
      "121/121 - 1s - loss: 1.6116 - accuracy: 0.5022 - 543ms/epoch - 4ms/step\n",
      "Epoch 11/4000\n",
      "\n",
      "Epoch 11: loss improved from 1.61158 to 1.47311, saving model to best_model3.h5\n",
      "121/121 - 1s - loss: 1.4731 - accuracy: 0.5404 - 511ms/epoch - 4ms/step\n",
      "Epoch 12/4000\n"
     ]
    }
   ],
   "source": [
    "history = model.fit(features, targets, epochs=4000, batch_size=512, verbose=2, callbacks=checkpoint)"
   ],
   "metadata": {
    "collapsed": false,
    "pycharm": {
     "name": "#%%\n",
     "is_executing": true
    }
   }
  }
 ],
 "metadata": {
  "kernelspec": {
   "display_name": "Python 3",
   "language": "python",
   "name": "python3"
  },
  "language_info": {
   "codemirror_mode": {
    "name": "ipython",
    "version": 2
   },
   "file_extension": ".py",
   "mimetype": "text/x-python",
   "name": "python",
   "nbconvert_exporter": "python",
   "pygments_lexer": "ipython2",
   "version": "2.7.6"
  }
 },
 "nbformat": 4,
 "nbformat_minor": 0
}